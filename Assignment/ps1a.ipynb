{
 "cells": [
  {
   "cell_type": "code",
   "execution_count": 31,
   "metadata": {},
   "outputs": [
    {
     "name": "stdout",
     "output_type": "stream",
     "text": [
      "Enter the cost of your dream home: 500000\n",
      "Down payment amount =  125000.0\n"
     ]
    }
   ],
   "source": [
    "# input the total cost of home \n",
    "\n",
    "cost_home = float(input(\"Enter the cost of your dream home: \"))\n",
    "\n",
    "# portion of down payment \n",
    "\n",
    "per_dnpaymnt = 0.25   # doen payment percentage\n",
    "down_payment = per_dnpaymnt * cost_home\n",
    "print (\"Down payment amount = \",down_payment)\n"
   ]
  },
  {
   "cell_type": "code",
   "execution_count": null,
   "metadata": {},
   "outputs": [],
   "source": []
  },
  {
   "cell_type": "code",
   "execution_count": 37,
   "metadata": {},
   "outputs": [
    {
     "name": "stdout",
     "output_type": "stream",
     "text": [
      "Enter your annual salary = 80000\n",
      "Enter the percent of your salary to save, as a decimal: 0.15\n",
      "portion_saved monthly =  1000.0\n"
     ]
    }
   ],
   "source": [
    "# enter annual salary \n",
    "\n",
    "annual_salary = float(input(\"Enter your annual salary = \"))\n",
    "\n",
    "# annual salary percentaage portion \n",
    "\n",
    "portion_per = float(input('Enter the percent of your salary to save, as a decimal: ')) \n",
    "\n",
    "portion_saved = (annual_salary/12)*portion_per # monthly saved portion \n",
    "\n",
    "print('portion_saved monthly = ',portion_saved)"
   ]
  },
  {
   "cell_type": "code",
   "execution_count": 38,
   "metadata": {},
   "outputs": [
    {
     "name": "stdout",
     "output_type": "stream",
     "text": [
      "Number of months 105\n"
     ]
    }
   ],
   "source": [
    "ret_sav = 0.04  # saving percentage return on investing save money \n",
    "rem_amount = down_payment\n",
    "months = 0\n",
    "while(rem_amount>0):\n",
    "    add_amount = (portion_saved * ret_sav)/12\n",
    "    portion_saved  = portion_saved + add_amount\n",
    "    rem_amount = rem_amount - portion_saved\n",
    "    months+=1\n",
    "    \n",
    "print(\"Number of months\",months)\n",
    "\n",
    "    "
   ]
  }
 ],
 "metadata": {
  "kernelspec": {
   "display_name": "Python 3",
   "language": "python",
   "name": "python3"
  },
  "language_info": {
   "codemirror_mode": {
    "name": "ipython",
    "version": 3
   },
   "file_extension": ".py",
   "mimetype": "text/x-python",
   "name": "python",
   "nbconvert_exporter": "python",
   "pygments_lexer": "ipython3",
   "version": "3.6.9"
  }
 },
 "nbformat": 4,
 "nbformat_minor": 2
}
